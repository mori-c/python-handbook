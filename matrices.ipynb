{
 "cells": [
  {
   "cell_type": "markdown",
   "metadata": {},
   "source": [
    "# Matrices\n",
    "\n",
    "\n",
    "\n",
    "### Define\n",
    "\n",
    " * table(list) \n",
    "     * rows\n",
    "     * columns\n",
    " * vector(table) \n",
    " * matrix(table)\n",
    " * square(matrix)\n",
    " * triangular(square)\n",
    " * uppertriangular(square)\n",
    " * lowertriangular(triangular)\n",
    " * math(elements)\n",
    "<!--     * [ m ] [ n ]\n",
    "         * [ i ] [ j ]\n",
    "--> \n",
    " "
   ]
  },
  {
   "cell_type": "code",
   "execution_count": 25,
   "metadata": {},
   "outputs": [
    {
     "name": "stdout",
     "output_type": "stream",
     "text": [
      "Array Lists: \n",
      "a: [[0, 1], [2, 3], [4, 5]]\n",
      "b: [[10, 20], [30, 40], [50, 60]]\n",
      "\n",
      "List a [m][n]: \n",
      "[0, 1]\n",
      "[2, 3]\n",
      "[4, 5]\n",
      "\n",
      "List b [m][n]: \n",
      "[10, 20]\n",
      "[30, 40]\n",
      "[50, 60]\n"
     ]
    }
   ],
   "source": [
    "\n",
    "# array list a = x\n",
    "a = [[0,1],[2,3],[4,5]]\n",
    "# array list b = y\n",
    "b = [[10,20],[30,40],[50,60]]\n",
    "\n",
    "print('Array Lists: ')\n",
    "print('a:', a)\n",
    "print('b:', b)\n",
    "print()\n",
    "print('List a [m][n]: ')\n",
    "print(a[0])\n",
    "print(a[1])\n",
    "print(a[2])\n",
    "\n",
    "# print()\n",
    "# print('List a(columns): ')\n",
    "\n",
    "print()\n",
    "print('List b [m][n]: ')\n",
    "print(b[0])\n",
    "print(b[1])\n",
    "print(b[2])\n",
    "\n",
    "\n",
    "# print()\n",
    "# print('Subscript of [m][n][i][j]: ')"
   ]
  },
  {
   "cell_type": "markdown",
   "metadata": {},
   "source": [
    "> See line [190](https://nbviewer.jupyter.org/github/mori-c/python-handbool/blob/master/reference.ipynb#dotmatrix) under **3 x 2 Matrix** in the [Reference Notebook](https://nbviewer.jupyter.org/github/mori-c/python-handbool/blob/master/reference.ipynb) for an example while this wip notebook gets updated."
   ]
  },
  {
   "cell_type": "code",
   "execution_count": 22,
   "metadata": {},
   "outputs": [],
   "source": [
    "# Calculate dot matrix product without numpy\n",
    "# source: https://is.gd/Sngxbs\n",
    "# dot = lambda a, b: sum(map(lambda A, B: A * B, a, b))\n",
    "# dot(a, b)\n",
    "# print('dot matrix product (a, b): ', dot(a, b))"
   ]
  },
  {
   "cell_type": "code",
   "execution_count": null,
   "metadata": {},
   "outputs": [],
   "source": []
  }
 ],
 "metadata": {
  "kernelspec": {
   "display_name": "Python 3",
   "language": "python",
   "name": "python3"
  },
  "language_info": {
   "codemirror_mode": {
    "name": "ipython",
    "version": 3
   },
   "file_extension": ".py",
   "mimetype": "text/x-python",
   "name": "python",
   "nbconvert_exporter": "python",
   "pygments_lexer": "ipython3",
   "version": "3.7.3"
  }
 },
 "nbformat": 4,
 "nbformat_minor": 2
}
