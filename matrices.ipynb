{
 "cells": [
  {
   "cell_type": "markdown",
   "metadata": {},
   "source": [
    "# Linear Algebra Matrices\n",
    "\n",
    "<br />\n",
    "\n",
    "Create and breakdown of an ``` ijk-algorthim ``` using pure Python3 using imports operator, math and random sans libraries like numpy   \n",
    "\n",
    "---\n",
    "\n",
    "### Define\n",
    "\n",
    " * table(list) \n",
    "     * rows\n",
    "     * columns\n",
    " * vector(table) \n",
    " * matrix(table)\n",
    " * square(matrix)\n",
    " * triangular(square)\n",
    " * uppertriangular(square)\n",
    " * lowertriangular(triangular)\n",
    " * math(elements)\n",
    "<!--     * [ m ] [ n ]\n",
    "         * [ i ] [ j ]\n",
    "--> \n",
    " "
   ]
  },
  {
   "cell_type": "code",
   "execution_count": 33,
   "metadata": {},
   "outputs": [
    {
     "name": "stdout",
     "output_type": "stream",
     "text": [
      "Array Lists: \n",
      "a: [[0, 1], [2, 3], [4, 5]]\n",
      "b: [[10, 20], [30, 40], [50, 60]]\n",
      "\n",
      "List a [m][n]: \n",
      "[0, 1]\n",
      "[2, 3]\n",
      "[4, 5]\n",
      "\n",
      "List b [m][n]: \n",
      "[10, 20]\n",
      "[30, 40]\n",
      "[50, 60]\n"
     ]
    }
   ],
   "source": [
    "# array list a = x\n",
    "a = [[0,1],[2,3],[4,5]]\n",
    "# array list b = y \n",
    "b = [[10,20],[30,40],[50,60]]\n",
    "\n",
    "print('Array Lists: ')\n",
    "print('a:', a)\n",
    "print('b:', b)\n",
    "print()\n",
    "print('List a [m][n]: ')\n",
    "print(a[0])\n",
    "print(a[1])\n",
    "print(a[2])\n",
    "\n",
    "# print()\n",
    "# print('List a(columns): ')\n",
    "\n",
    "print()\n",
    "print('List b [m][n]: ')\n",
    "print(b[0])\n",
    "print(b[1])\n",
    "print(b[2])\n",
    "\n",
    "\n",
    "# print()\n",
    "# print('Subscript of [m][n][i][j]: ')"
   ]
  },
  {
   "cell_type": "markdown",
   "metadata": {},
   "source": [
    "> See line [190](https://nbviewer.jupyter.org/github/mori-c/python-handbool/blob/master/reference.ipynb#dotmatrix) under **3 x 2 Matrix** in the [Reference Notebook](https://nbviewer.jupyter.org/github/mori-c/python-handbool/blob/master/reference.ipynb) for an example while this wip notebook gets updated.\n",
    "\n",
    "\n",
    "TODO:\n",
    "\n",
    "To calculate machine learning matricies in pure Python3 without use of any libraries, review the follow sample code:\n",
    "\n",
    "- [ ] [Stack Overflow's](https://stackoverflow.com/questions/10508021/matrix-multiplication-in-python) \"Matrix Multiplication in Python\" from:\n",
    "[varunl](https://stackoverflow.com/posts/10508133/revisions)\n",
    "```\n",
    "C = [[0 for col in range(len(B[0]))] for row in range(len(A))]\n",
    "```\n",
    "[Raymond Hettinger](https://stackoverflow.com/posts/10510078/revisions) for Python 2.2 only with ``` import operator, math, random ```\n",
    "- [ ] \n",
    "- [ ] \n",
    "- [ ] \n",
    "- [ ] "
   ]
  },
  {
   "cell_type": "code",
   "execution_count": 22,
   "metadata": {},
   "outputs": [],
   "source": [
    "# Calculate dot matrix product without numpy\n",
    "# source: https://is.gd/Sngxbs\n",
    "# dot = lambda a, b: sum(map(lambda A, B: A * B, a, b))\n",
    "# dot(a, b)\n",
    "# print('dot matrix product (a, b): ', dot(a, b))"
   ]
  },
  {
   "cell_type": "markdown",
   "metadata": {},
   "source": [
    "# Overview\n",
    "\n",
    "---\n",
    "\n",
    "| Dimensions | 1 D     | 2 D     | 3 D     |\n",
    "| ------------ | :-------- | :-------- | :-------- |\n",
    "| Array type | Vector  | Matrix  | Tensor  | \n",
    "| Axis       | X       | X <sub>m</sub> · Y <sub>n</sub>    | X <sub>m</sub> · Y <sub>n</sub> · Z <sub>i · j</sub>  |\n",
    "| Direction  | row / col | row · col | row · col · time |\n",
    "| Expression | A       | A <sub>m</sub> · B <sub>n</sub>    | A <sub>m</sub> · B <sub>n</sub> · AB <sub>i · j</sub>  |\n",
    "\n",
    "<br />\n",
    "\n",
    "row = a = x = m = i = ✕ <sub>[ row ]</sub> = ✕ <sub>i</sub> = ✕ <sub>[0]</sub>\n",
    "\n",
    "col = b = y = n = j = ✕ <sub>[ col ]</sub> = ✕ <sub>j</sub> \n",
    "\n",
    "<br />\n",
    "\n",
    "# Sample Code"
   ]
  },
  {
   "cell_type": "markdown",
   "metadata": {},
   "source": [
    "### [Input Matrix 2D List in Python 3.4](https://stackoverflow.com/questions/22741030/how-to-input-matrix-2d-list-in-python-3-4)\n",
    "\n",
    "Stack Overflow"
   ]
  },
  {
   "cell_type": "code",
   "execution_count": 38,
   "metadata": {},
   "outputs": [
    {
     "name": "stdout",
     "output_type": "stream",
     "text": [
      "[[0, 1], [2, 3], [4, 5]]\n"
     ]
    }
   ],
   "source": [
    "# array list a = x = m = i = row\n",
    "m = [[0,1],[2,3],[4,5]]\n",
    "# array list b = y = n = j = col\n",
    "n = [[10,20],[30,40],[50,60]]\n",
    "\n",
    "print(m)"
   ]
  },
  {
   "cell_type": "code",
   "execution_count": 41,
   "metadata": {},
   "outputs": [
    {
     "name": "stdout",
     "output_type": "stream",
     "text": [
      "[] []\n"
     ]
    }
   ],
   "source": [
    "matrix = []; col = []\n",
    "print(matrix, col)\n",
    "\n",
    "for i in range(0,m):\n",
    "    matrix "
   ]
  },
  {
   "cell_type": "code",
   "execution_count": null,
   "metadata": {},
   "outputs": [],
   "source": []
  }
 ],
 "metadata": {
  "kernelspec": {
   "display_name": "Python 3",
   "language": "python",
   "name": "python3"
  },
  "language_info": {
   "codemirror_mode": {
    "name": "ipython",
    "version": 3
   },
   "file_extension": ".py",
   "mimetype": "text/x-python",
   "name": "python",
   "nbconvert_exporter": "python",
   "pygments_lexer": "ipython3",
   "version": "3.7.3"
  }
 },
 "nbformat": 4,
 "nbformat_minor": 2
}
