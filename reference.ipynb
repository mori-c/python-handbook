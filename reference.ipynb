{
 "cells": [
  {
   "cell_type": "markdown",
   "metadata": {},
   "source": [
    "# Python Reference\n",
    "\n",
    "---\n",
    "\n",
    "<!-- \n",
    "[01](#footnote)\n",
    "<a name=\"footnote\">01</a> : text\n",
    "---\n",
    "# [Syntax](#syntax)\n",
    "# [Import Data & Modules](#import)\n",
    "# 2. [Data Types](#datatypes)\n",
    "# 3. [Basic Arithmetic Math](#math)\n",
    "# 4. [Assignments](#statements)\n",
    "# 5. Comparsions & Boolean Operations\n",
    "# 6. If - elif - else\n",
    "# 7. Conditional Statements\n",
    "# 8. Lists\n",
    "# 9. Tuples\n",
    "# 10. Sets\n",
    "# 11. Functions\n",
    "### 12. Error Handling\n",
    "# 13. Dictionaries\n",
    "### 14. Classes & Objects\n",
    "# 15. Lambda (Anonymous) Functions\n",
    "---\n",
    "# Scripts\n",
    "# For & While Loops \n",
    "# Else with For & While\n",
    "# Read & Write Files\n",
    "---\n",
    "# Strings & Formatting, Floats, Type Castings\n",
    "# Comprehensions\n",
    "# Map & Filter\n",
    "-->"
   ]
  },
  {
   "cell_type": "markdown",
   "metadata": {},
   "source": [
    "## <a name=\"syntax\">Syntax</a>"
   ]
  },
  {
   "cell_type": "markdown",
   "metadata": {},
   "source": [
    "Python code structure sample"
   ]
  },
  {
   "cell_type": "code",
   "execution_count": null,
   "metadata": {},
   "outputs": [],
   "source": [
    "# set midpoint\n",
    "midpoint = 5\n",
    "print('midpoint: ', midpoint)\n",
    "# print('________________________________________________')\n",
    "\n",
    "# create two empty lists\n",
    "lower = [ ]; upper = [ ]\n",
    "print('lower: ', lower, 'upper: ', upper)\n",
    "# print('________________________________________________')\n",
    "\n",
    "# create midpoint value that splits a set of numbers\n",
    "# containerize values in lower and upper list\n",
    "for i in range(10):\n",
    "    # what is i?\n",
    "    # print('i: ', i) \n",
    "    if (i < midpoint):\n",
    "        # print('i =', i, '=', i < midpoint)\n",
    "            # true/false if range(10) is less than midpoint(5)\n",
    "        lower.append(i)\n",
    "        # print('lower incremental added list: ', lower)\n",
    "            # if true (10 < 5), add values less than into lower list\n",
    "    else: \n",
    "        # print('i =', i, '=', i > midpoint)\n",
    "            # true/false if range(10) is greater than midpoint(5)\n",
    "        upper.append(i)\n",
    "        # print('upper incremental added list: ', upper)\n",
    "            # if false (10 > 5), add values greater than 5 into upper list        \n",
    "\n",
    "# print('________________________________________________')\n",
    "\n",
    "print('lower: ', lower)\n",
    "print('upper: ', upper)\n"
   ]
  },
  {
   "cell_type": "markdown",
   "metadata": {},
   "source": [
    "### <a name=\"comments\">Commenting</a>"
   ]
  },
  {
   "cell_type": "code",
   "execution_count": null,
   "metadata": {},
   "outputs": [],
   "source": [
    "# hashtag to comment in Python"
   ]
  },
  {
   "cell_type": "markdown",
   "metadata": {},
   "source": [
    "### <a name=\"statements\">Assignment Operations</a>"
   ]
  },
  {
   "cell_type": "markdown",
   "metadata": {},
   "source": [
    "* statement: **variables** = values\n",
    "* no ; at end versus C, C++, JS\n",
    "* next line add **x** = ``` (  ) ```  ``` ; ```  ``` \\ ```"
   ]
  },
  {
   "cell_type": "code",
   "execution_count": null,
   "metadata": {},
   "outputs": [],
   "source": [
    "midpoint = 5\n",
    "print('statement:', 'midpoint = ', midpoint)"
   ]
  },
  {
   "cell_type": "markdown",
   "metadata": {},
   "source": [
    "### <a name=\"newline\">New Line</a>\n",
    "\n",
    "whitespace within line don't matter\n",
    "\n",
    "---\n",
    "\n",
    "**Parenthesis ( ) :**\n",
    "\n",
    "* Grouped **arguments** \n",
    "* Functions calling (variables) \n",
    "* Functions with no arguments"
   ]
  },
  {
   "cell_type": "code",
   "execution_count": null,
   "metadata": {},
   "outputs": [],
   "source": [
    "# group arguments\n",
    "newline_parenthesis = 2 * (1 + 2     + 3 + 4 +\n",
    "    5 + 6 + 7 + 8 +   9   )\n",
    "print('( ) : ', newline_parenthesis)"
   ]
  },
  {
   "cell_type": "code",
   "execution_count": null,
   "metadata": {},
   "outputs": [],
   "source": [
    "# Functions() with no arguments\n",
    "L = [10, 0, 2, 5,\\\n",
    "    4, 8, 6, 1, 9, 3]\n",
    "L.sort()\n",
    "\n",
    "# varaible = [array value]\n",
    "# variable.function(all)\n",
    "# print(value exectued by function called)\n",
    "\n",
    "print(L)"
   ]
  },
  {
   "cell_type": "markdown",
   "metadata": {},
   "source": [
    "**Backslash**"
   ]
  },
  {
   "cell_type": "code",
   "execution_count": null,
   "metadata": {},
   "outputs": [],
   "source": [
    "newline_backslash = 1 - 2 - 3 - 4 -\\\n",
    "    5 + 6 + 7 + 8 + 9\n",
    "print(' \\ :', newline_backslash)"
   ]
  },
  {
   "cell_type": "markdown",
   "metadata": {},
   "source": [
    "**Semicolon  ☹️**"
   ]
  },
  {
   "cell_type": "code",
   "execution_count": null,
   "metadata": {},
   "outputs": [],
   "source": [
    "newline_A = [ ] ; newline_B = [ ]\n",
    "# print('lower: ', lower, 'upper: ', upper)\n",
    "# print('New line split: ', newline_A; 'Semicolon is Discouraged: ', newline_B)\n",
    "print(newline_A, newline_B)"
   ]
  },
  {
   "cell_type": "markdown",
   "metadata": {},
   "source": [
    "### <a name=\"indent\">Indentation</a>\n",
    "\n",
    "Python"
   ]
  },
  {
   "cell_type": "code",
   "execution_count": null,
   "metadata": {},
   "outputs": [],
   "source": [
    "for i in range(10):\n",
    "    if i < midpoint:\n",
    "        lower.append(i)\n",
    "    else:\n",
    "        upper.append(i)"
   ]
  },
  {
   "cell_type": "markdown",
   "metadata": {},
   "source": [
    "### <a name=\"blocks\">Block of Code</a>\n",
    "\n",
    "\n",
    "**C Language**\n",
    "\n",
    "curly braces indicate code block\n",
    "```\n",
    "for(int i = 0; i < 100; i ++) {\n",
    "    total += i;\n",
    "}\n",
    "```\n",
    "---\n",
    "\n",
    "**Python**\n",
    "\n",
    "indent code block with colon ( : )"
   ]
  },
  {
   "cell_type": "code",
   "execution_count": null,
   "metadata": {},
   "outputs": [],
   "source": [
    "total = 1\n",
    "\n",
    "for i in range(100):\n",
    "    total += i"
   ]
  },
  {
   "cell_type": "markdown",
   "metadata": {},
   "source": [
    "Syntax: [WhirlwindTourOfPython](https://nbviewer.jupyter.org/github/jakevdp/WhirlwindTourOfPython/blob/master/02-Basic-Python-Syntax.ipynb) "
   ]
  },
  {
   "cell_type": "markdown",
   "metadata": {},
   "source": [
    "---"
   ]
  },
  {
   "cell_type": "markdown",
   "metadata": {},
   "source": [
    "## <a name=\"semantics\">Semantic Constructions</a>\n",
    "\n",
    "Semantics = data structures that composes a statement\n",
    "Python statements possess semantics that store, reference, operate on data\n",
    "\n",
    "1. [Variables](#pointers) ( = ) Pointers\n",
    "2. [Objects](#objects) \n",
    "3. [Operators](#oop)"
   ]
  },
  {
   "cell_type": "markdown",
   "metadata": {},
   "source": [
    "### <a name=\"pointers\">Pointers</a>\n",
    "\n",
    "- is the equate \" = \" sign\n",
    "- assigns variable to the left of the sign\n",
    "- defines a named memory bucket\n",
    "- are pointers, not containers\n",
    "- no need to declare variable\n",
    "- variable names point to objects of any type"
   ]
  },
  {
   "cell_type": "code",
   "execution_count": null,
   "metadata": {},
   "outputs": [],
   "source": [
    "y = 1         # integer\n",
    "z = 'hello'   # string\n",
    "x = [1, 2, 3] # list\n",
    "\n",
    "print(x, '-', y, '-', z)"
   ]
  },
  {
   "cell_type": "markdown",
   "metadata": {},
   "source": [
    "#### Mutable Object \n",
    "\n",
    "When two variable names coexist point to the same object\n"
   ]
  },
  {
   "cell_type": "code",
   "execution_count": 1,
   "metadata": {},
   "outputs": [
    {
     "name": "stdout",
     "output_type": "stream",
     "text": [
      "x =  [1, 2, 3]\n",
      "y -> x =  [1, 2, 3]\n"
     ]
    }
   ],
   "source": [
    "x = [1, 2, 3]\n",
    "print('x = ', x)\n",
    "\n",
    "y = x\n",
    "print('y -> x = ', y)"
   ]
  },
  {
   "cell_type": "markdown",
   "metadata": {},
   "source": [
    "#### Append( x ), Extend( x ) Methods <sup>[01](#appendextend)</sup>\n",
    "\n"
   ]
  },
  {
   "cell_type": "code",
   "execution_count": 3,
   "metadata": {},
   "outputs": [
    {
     "name": "stdout",
     "output_type": "stream",
     "text": [
      "Print out [x] list with 4 added to the end\n",
      "\n",
      "x.append(4) =  [1, 2, 3, 4, 1, 2, 3, 4, [...], 1, 2, 3, 4, 1, 2, 3, 4, [...], 4]\n",
      "________________________________________________________\n",
      "\n",
      "Print out all items as an extended [y], and [x] lists\n",
      "\n",
      "y.extend(x) =  [1, 2, 3, 4, 1, 2, 3, 4, [...], 1, 2, 3, 4, 1, 2, 3, 4, [...], 4, 1, 2, 3, 4, 1, 2, 3, 4, [...], 1, 2, 3, 4, 1, 2, 3, 4, [...], 4]\n",
      "________________________________________________________\n",
      "\n",
      "Print out y.extend([y], [x]) list items above; add nested [x] list\n",
      "\n",
      "y.append(x) =  [1, 2, 3, 4, 1, 2, 3, 4, [...], 1, 2, 3, 4, 1, 2, 3, 4, [...], 4, 1, 2, 3, 4, 1, 2, 3, 4, [...], 1, 2, 3, 4, 1, 2, 3, 4, [...], 4, [...]]\n",
      "________________________________________________________\n",
      "\n",
      "Prints out: y.append(y) = [y, x, [x], (y, x, [x])]\n",
      "\n",
      "x.append(y) =  [1, 2, 3, 4, 1, 2, 3, 4, [...], 1, 2, 3, 4, 1, 2, 3, 4, [...], 4, 1, 2, 3, 4, 1, 2, 3, 4, [...], 1, 2, 3, 4, 1, 2, 3, 4, [...], 4, [...], 1, 2, 3, 4, 1, 2, 3, 4, [...], 1, 2, 3, 4, 1, 2, 3, 4, [...], 4, 1, 2, 3, 4, 1, 2, 3, 4, [...], 1, 2, 3, 4, 1, 2, 3, 4, [...], 4, [...]]\n"
     ]
    }
   ],
   "source": [
    "# list.append(x) == a[len(a):] = [x]\n",
    "# variable.append(value_object) method\n",
    "# add an item to the end of the list\n",
    "\n",
    "print('Print out [x] list with 4 added to the end')\n",
    "print()\n",
    "x.append(4)\n",
    "print('x.append(4) = ', x)\n",
    "# x.append(4) =  [1, 2, 3, 4]\n",
    "# x.append(4) = [x, 4]\n",
    "\n",
    "print('________________________________________________________')\n",
    "print()\n",
    "\n",
    "print('Print out all items as an extended [y], and [x] lists')\n",
    "print()\n",
    "y.extend(x)\n",
    "print('y.extend(x) = ', y)\n",
    "# y.extend(x) =  [1, 2, 3, 4, 1, 2, 3, 4]\n",
    "# y.extend(x) = [y, x]\n",
    "\n",
    "print('________________________________________________________')\n",
    "print()\n",
    "\n",
    "print('Print out y.extend([y], [x]) list items above; add nested [x] list')\n",
    "print()\n",
    "y.append(x)\n",
    "print('y.append(x) = ', y)\n",
    "# y.append(x) =  [1, 2, 3, 4, 1, 2, 3, 4, [...]]\n",
    "# y.append(x) = [y, x, [x]]\n",
    "\n",
    "print(\"________________________________________________________\")\n",
    "print()\n",
    "\n",
    "print('Prints out: y.append(y) = [y, x, [x], (y, x, [x])]')\n",
    "print()\n",
    "x.extend(y)\n",
    "print('x.append(y) = ', x)\n",
    "# x.append(y) =  [1, 2, 3, 4, 1, 2, 3, 4, [...], 1, 2, 3, 4, 1, 2, 3, 4, [...]]\n",
    "\n"
   ]
  },
  {
   "cell_type": "code",
   "execution_count": 18,
   "metadata": {},
   "outputs": [
    {
     "name": "stdout",
     "output_type": "stream",
     "text": [
      "x = [1, 2, 3]\n",
      "x = [1, 2, 3]\n",
      "y = [1, 2, 3, 4]\n",
      "x = change variable pointer to this object\n",
      "y = [unchanged] : y = [1, 2, 3, 4]\n"
     ]
    }
   ],
   "source": [
    "x = [1, 2, 3]\n",
    "print('x =', x)\n",
    "y = x\n",
    "print('x =', x)\n",
    "\n",
    "x.append(4)\n",
    "print('y =', y)\n",
    "\n",
    "x = 'change variable pointer to this object'\n",
    "print('x =', x)\n",
    "print('y = [unchanged]', ': y =', y)\n"
   ]
  },
  {
   "cell_type": "code",
   "execution_count": 19,
   "metadata": {},
   "outputs": [
    {
     "name": "stdout",
     "output_type": "stream",
     "text": [
      "x = 15\n",
      "y = 10\n"
     ]
    }
   ],
   "source": [
    "x = 10\n",
    "y = x\n",
    "x += 5   # addition operator of 5 to x; then assign as x\n",
    "print('x =', x)\n",
    "print('y =', y)\n"
   ]
  },
  {
   "cell_type": "markdown",
   "metadata": {},
   "source": [
    "#### Overview\n",
    "\n",
    "Python\n",
    "\n",
    "| variable | pointer | object            | datatype |\n",
    "| -------: | :-----: | :---------------  | :------- |\n",
    "| x        | =       | ```1```           | integer  |\n",
    "| x        | =       | ``` 'hello' ```   | string   |\n",
    "| x        | =       | ``` [1, 2, 3] ``` | list     |\n",
    "\n",
    "<br />\n",
    "\n",
    "C Programming\n",
    "\n",
    "``` int x = 4; ``\n",
    "\n",
    "\n",
    "<br />\n",
    "<br />\n",
    "\n",
    "<sup><a name=\"appendextend\">Data Structure</a> Source: \n",
    "[list.append(x) & list.extend(x)](https://is.gd/KBUznl)<sup>"
   ]
  },
  {
   "cell_type": "markdown",
   "metadata": {},
   "source": [
    "### <a name=\"objects\">Objects</a>\n",
    "\n",
    "datatype ≠ variable name\n",
    "datatype = object\n",
    "\n",
    "object = entity data\n",
    "entity = attributes  # metadata\n",
    "\n",
    "method  # function\n",
    "\n",
    "attribute + '.' + method = object data called -> ``` attribute.method() ```"
   ]
  },
  {
   "cell_type": "code",
   "execution_count": 27,
   "metadata": {},
   "outputs": [
    {
     "data": {
      "text/plain": [
       "str"
      ]
     },
     "execution_count": 27,
     "metadata": {},
     "output_type": "execute_result"
    }
   ],
   "source": [
    "u = 'hello'   # string\n",
    "type(u)"
   ]
  },
  {
   "cell_type": "code",
   "execution_count": 28,
   "metadata": {},
   "outputs": [
    {
     "data": {
      "text/plain": [
       "int"
      ]
     },
     "execution_count": 28,
     "metadata": {},
     "output_type": "execute_result"
    }
   ],
   "source": [
    "x = 1         # integer\n",
    "type(x)"
   ]
  },
  {
   "cell_type": "code",
   "execution_count": 29,
   "metadata": {},
   "outputs": [
    {
     "data": {
      "text/plain": [
       "float"
      ]
     },
     "execution_count": 29,
     "metadata": {},
     "output_type": "execute_result"
    }
   ],
   "source": [
    "y = 1.697365 # float\n",
    "type(y)"
   ]
  },
  {
   "cell_type": "code",
   "execution_count": 30,
   "metadata": {},
   "outputs": [
    {
     "data": {
      "text/plain": [
       "list"
      ]
     },
     "execution_count": 30,
     "metadata": {},
     "output_type": "execute_result"
    }
   ],
   "source": [
    "z = [1, 2, 3] # list\n",
    "type(z)"
   ]
  },
  {
   "cell_type": "markdown",
   "metadata": {},
   "source": [
    "**Data Called**\n",
    "\n",
    "``` attribute.method() ```"
   ]
  },
  {
   "cell_type": "code",
   "execution_count": 31,
   "metadata": {},
   "outputs": [
    {
     "name": "stdout",
     "output_type": "stream",
     "text": [
      "[1, 2, 3, 100]\n"
     ]
    }
   ],
   "source": [
    "L = [1, 2, 3]\n",
    "L.append(100)\n",
    "print(L)"
   ]
  },
  {
   "cell_type": "code",
   "execution_count": 33,
   "metadata": {},
   "outputs": [
    {
     "data": {
      "text/plain": [
       "float"
      ]
     },
     "execution_count": 33,
     "metadata": {},
     "output_type": "execute_result"
    }
   ],
   "source": [
    "x = 4.5\n",
    "type(x)"
   ]
  },
  {
   "cell_type": "markdown",
   "metadata": {},
   "source": [
    "#### Complex Numbers <sup>[02](#complex)\n",
    "\n",
    "* Algebraic complex number expression: ``` a + b J ```\n",
    "* ``` J ``` or ``` j ``` = ``` √ -1 ```\n",
    "* **Real** (``` a ```) and **Imaginary** (``` b J ```) Numbers\n",
    "* only float ``` a ``` + ``` b ``` numbers compute: ``` (2.5e2 = 2.5 x 102 = 250) ```, ``` -21.9 ```\n",
    "\n",
    "<br />\n",
    "\n",
    "\n",
    "<sub><a name=\"complex\">02</a>: [Numbers](https://is.gd/gksgu0)</sub>"
   ]
  },
  {
   "cell_type": "code",
   "execution_count": 51,
   "metadata": {},
   "outputs": [
    {
     "name": "stdout",
     "output_type": "stream",
     "text": [
      "4.5 + 0.0 i\n"
     ]
    }
   ],
   "source": [
    "print(x.real, '+', x.imag, 'i')"
   ]
  },
  {
   "cell_type": "markdown",
   "metadata": {},
   "source": [
    "####  ``` .is_integer ```  Method Checker"
   ]
  },
  {
   "cell_type": "code",
   "execution_count": 52,
   "metadata": {},
   "outputs": [
    {
     "data": {
      "text/plain": [
       "False"
      ]
     },
     "execution_count": 52,
     "metadata": {},
     "output_type": "execute_result"
    }
   ],
   "source": [
    "x.is_integer()"
   ]
  },
  {
   "cell_type": "code",
   "execution_count": 54,
   "metadata": {},
   "outputs": [
    {
     "data": {
      "text/plain": [
       "builtin_function_or_method"
      ]
     },
     "execution_count": 54,
     "metadata": {},
     "output_type": "execute_result"
    }
   ],
   "source": [
    "type(x.is_integer)"
   ]
  },
  {
   "cell_type": "markdown",
   "metadata": {},
   "source": [
    "---\n",
    "\n",
    "### <a name=\"oop\">Operators</a>\n",
    "\n",
    "\n",
    "1. [Arithmetic](#oop-math)\n",
    "2. [Bitwise](#oop-bitwise)\n",
    "3. [Assignment](#oop-assign)\n",
    "4. [Comparison](#oop-compare)\n",
    "5. [Boolean](#oop-boolean)\n",
    "6. [Identity](#oop-identity)\n",
    "7. [Membership](#oop-member)"
   ]
  },
  {
   "cell_type": "markdown",
   "metadata": {},
   "source": [
    "#### <a name=\"oop-math\">Arithmetic</a>\n",
    "\n",
    "* 7 basic binary arithmetic operators\n",
    "* 7:2 are unary operators\n",
    "* combine operators by grouping using parenthesis ( )\n",
    "\n",
    "<br />\n",
    "\n",
    "| Operator     | Name           | Description                           |\n",
    "|--------------|----------------|---------------------------------------|\n",
    "| ``a + b``    | Addition       | Sum of ``a`` and ``b``                |\n",
    "| ``a - b``    | Subtraction    | Difference of ``a`` and ``b``         |\n",
    "| ``a * b``    | Multiplication | Product of ``a`` and ``b``            |\n",
    "| ``a / b``    | True division  | Quotient of ``a`` and ``b``           |\n",
    "| ``a // b``   | Floor division | Quotient of ``a`` and ``b``, removing fractional parts |\n",
    "| ``a % b``    | Modulus        | Integer remainder after division of ``a`` by ``b``     |\n",
    "| ``a ** b``   | Exponentiation | ``a`` raised to the power of ``b``    |\n",
    "| ``-a``       | Negation       | The negative of ``a``                 |\n",
    "| ``+a``       | Unary plus     | ``a`` unchanged (rarely used)         |"
   ]
  },
  {
   "cell_type": "code",
   "execution_count": 112,
   "metadata": {},
   "outputs": [
    {
     "data": {
      "text/plain": [
       "42.0"
      ]
     },
     "execution_count": 112,
     "metadata": {},
     "output_type": "execute_result"
    }
   ],
   "source": [
    "# addition, subtraction, multiplication\n",
    "(4 + 8) * (6.5 - 3)"
   ]
  },
  {
   "cell_type": "code",
   "execution_count": 113,
   "metadata": {},
   "outputs": [
    {
     "name": "stdout",
     "output_type": "stream",
     "text": [
      "2.5\n"
     ]
    },
    {
     "data": {
      "text/plain": [
       "float"
      ]
     },
     "execution_count": 113,
     "metadata": {},
     "output_type": "execute_result"
    }
   ],
   "source": [
    "# True division (float)\n",
    "print(5 / 2)\n",
    "type(5 / 2)\n"
   ]
  },
  {
   "cell_type": "code",
   "execution_count": 114,
   "metadata": {},
   "outputs": [
    {
     "name": "stdout",
     "output_type": "stream",
     "text": [
      "2\n"
     ]
    },
    {
     "data": {
      "text/plain": [
       "int"
      ]
     },
     "execution_count": 114,
     "metadata": {},
     "output_type": "execute_result"
    }
   ],
   "source": [
    "# Python3\n",
    "# Floor division (integer)\n",
    "print(5 // 2)\n",
    "type(5 // 2)"
   ]
  },
  {
   "cell_type": "markdown",
   "metadata": {},
   "source": [
    "#### Dot Matrix Product\n",
    "\n",
    "* List inside a list\n",
    "* To multiply 2 lists, x(row) === y(columns)\n",
    "    x = 3 rows\n",
    "    y = 2 columns\n",
    "    x * y = possible\n",
    "    \n",
    "* x (—) rows\n",
    "    * 1st (—) : x [0]\n",
    "        * 1st (—), 1st ( | ) : x [0] [0] : x [r][c]\n",
    "* y ( | ) columns"
   ]
  },
  {
   "cell_type": "markdown",
   "metadata": {},
   "source": [
    "**3 x 2 Matrix**\n",
    "\n",
    "| Dimensions | 1 D     | 2 D     | 3 D     |\n",
    "| ------------ | :-------- | :-------- | :-------- |\n",
    "| Array type | Vector  | Matrix  | Tensor  | \n",
    "| Axis       | X       | X <sub>m</sub> · Y <sub>n</sub>    | X <sub>m</sub> · Y <sub>n</sub> · Z <sub>i · j</sub>  |\n",
    "| Direction  | row / col | row · col | row · col · time |\n",
    "| Expression | A       | A <sub>m</sub> · B <sub>n</sub>    | A <sub>m</sub> · B <sub>n</sub> · AB <sub>i · j</sub>  |\n",
    "\n",
    "<br />\n",
    "\n",
    "* 3:2 — row:column \n",
    "* m:n — i:j (time change)\n",
    "\n",
    "```\n",
    "row = m = ✕ <sub>[row]</sub> = ✕ <sub>i</sub> = ✕ <sub>[0]</sub>\n",
    "col = n = ✕ <sub>[col]</sub> = ✕ <sub>j</sub> \n",
    "\n",
    "```\n",
    "\n",
    "| ✕   | 2               | column  | n   | j   |\n",
    "|-----|-----------------|---------|-----|-----|\n",
    "| 3   | ✕ <sub>3 · 2</sub> | ...     | ... | ... |\n",
    "| row | ...             | ✕ <sub>row : col</sub> | ... | ... |\n",
    "| m   | ...             | ...     | ✕ <sub>m · n</sub> | ... |\n",
    "| i   | ...             | ...     | ... | ✕ <sub>i · j</sub> |\n",
    "\n",
    "<br />\n",
    "\n",
    "**List A**\n",
    "* A <sub>[r][c]</sub> = A <sub>[0][0]</sub> = [ [114, 160], [60, 27], [157, 112] ]\n",
    "\n",
    "| A  | n1  | n2  |\n",
    "|----|-----|-----|\n",
    "| m1 | 114 | 160 |\n",
    "| m2 | 60  | 27  |\n",
    "| m3 | 157 | 112 |\n",
    "\n",
    "<br />\n",
    "\n",
    "**List B**\n",
    "* B <sub>[r][c]</sub> = B <sub>[0][0]</sub> = [ [74, 119], [23, 97], [73, 14] ]\n",
    "\n",
    "| B  | n1  | n2 | n3 |\n",
    "|----|-----|----|----|\n",
    "| m1 | 74  | 23 | 73 |\n",
    "| m2 | 119 | 97 | 14 |\n",
    "\n"
   ]
  },
  {
   "cell_type": "code",
   "execution_count": 186,
   "metadata": {},
   "outputs": [
    {
     "name": "stdout",
     "output_type": "stream",
     "text": [
      "row → x = [[114, 160], [60, 27], [157, 112]]\n",
      "column → y = [[23, 97], [73, 14], [74, 119]]\n",
      "\n",
      "vector row:_________________ x[position] → x[0]\n",
      "x[0] :  [114, 160]\n",
      "x[1] :  [60, 27]\n",
      "x[2] :  [157, 112]\n",
      "\n",
      "vector column:______________ y[position] → y[0]\n",
      "y[0] :  [23, 97]\n",
      "y[1] :  [73, 14]\n",
      "y[2] :  [74, 119]\n",
      "\n",
      "row:_________________ x[position] → x[0]\n",
      "xy[0][0] → x[r][c]\n",
      "x[0][0] :  114\n",
      "x[0][1] :  160\n",
      "x[1][0] :  60\n",
      "x[1][1] :  27\n",
      "x[2][0] :  157\n",
      "x[2][1] :  112\n",
      "y[0][0] :  23\n",
      "y[0][1] :  97\n",
      "y[1][0] :  73\n",
      "y[1][1] :  14\n",
      "y[2][0] :  74\n",
      "y[2][1] :  119\n",
      "\n",
      "None None\n"
     ]
    }
   ],
   "source": [
    "# Python3\n",
    "# Linear Algebra for Matrix Products\n",
    "\n",
    "# error = a = ['a0', 'a1', 'a2', 'a3']\n",
    "# col = x(inputs)\n",
    "x = [[114, 160], [60, 27], [157, 112]]       #  = 3 x 2 Matrix\n",
    "print('row → x =', x)\n",
    "print('column → y =', y)\n",
    "print()\n",
    "\n",
    "print('vector row:_________________ x[position] → x[0]')\n",
    "print('x[0] : ', x[0])\n",
    "print('x[1] : ', x[1])\n",
    "print('x[2] : ', x[2])\n",
    "print()\n",
    "\n",
    "print('vector column:______________ y[position] → y[0]')\n",
    "print('y[0] : ', y[0])\n",
    "print('y[1] : ', y[1])\n",
    "print('y[2] : ', y[2])\n",
    "print()\n",
    "\n",
    "print('row:_________________ x[position] → x[0]')\n",
    "print('xy[0][0] → x[r][c]')\n",
    "print('x[0][0] : ', x[0][0])\n",
    "print('x[0][1] : ', x[0][1])\n",
    "# print('x[0][1] : ', x[0][2])\n",
    "\n",
    "print('x[1][0] : ', x[1][0])\n",
    "print('x[1][1] : ', x[1][1])\n",
    "\n",
    "print('x[2][0] : ', x[2][0])\n",
    "print('x[2][1] : ', x[2][1])\n",
    "\n",
    "print('y[0][0] : ', y[0][0])\n",
    "print('y[0][1] : ', y[0][1])\n",
    "# print('y[0][1] : ', y[0][2])\n",
    "print('y[1][0] : ', y[1][0])\n",
    "print('y[1][1] : ', y[1][1])\n",
    "# print('y[1][1] : ', y[1][2])\n",
    "\n",
    "print('y[2][0] : ', y[2][0])\n",
    "print('y[2][1] : ', y[2][1])\n",
    "# print('y[2][2] : ', y[2][2])\n",
    "\n",
    "print()\n",
    "\n",
    "print(x.sort(), y.sort())\n",
    "\n",
    "\n",
    "     \n",
    "# print(a @ b)\n",
    "# type(a @ b)"
   ]
  },
  {
   "cell_type": "code",
   "execution_count": 189,
   "metadata": {},
   "outputs": [
    {
     "ename": "TypeError",
     "evalue": "can't multiply sequence by non-int of type 'list'",
     "output_type": "error",
     "traceback": [
      "\u001b[0;31m---------------------------------------------------------------------------\u001b[0m",
      "\u001b[0;31mTypeError\u001b[0m                                 Traceback (most recent call last)",
      "\u001b[0;32m<ipython-input-189-3c26362096e4>\u001b[0m in \u001b[0;36m<module>\u001b[0;34m\u001b[0m\n\u001b[1;32m      2\u001b[0m \u001b[0;31m# source: https://is.gd/Sngxbs\u001b[0m\u001b[0;34m\u001b[0m\u001b[0;34m\u001b[0m\u001b[0;34m\u001b[0m\u001b[0m\n\u001b[1;32m      3\u001b[0m \u001b[0mdot\u001b[0m \u001b[0;34m=\u001b[0m \u001b[0;32mlambda\u001b[0m \u001b[0ma\u001b[0m\u001b[0;34m,\u001b[0m \u001b[0mb\u001b[0m\u001b[0;34m:\u001b[0m \u001b[0msum\u001b[0m\u001b[0;34m(\u001b[0m\u001b[0mmap\u001b[0m\u001b[0;34m(\u001b[0m\u001b[0;32mlambda\u001b[0m \u001b[0mA\u001b[0m\u001b[0;34m,\u001b[0m \u001b[0mB\u001b[0m\u001b[0;34m:\u001b[0m \u001b[0mA\u001b[0m \u001b[0;34m*\u001b[0m \u001b[0mB\u001b[0m\u001b[0;34m,\u001b[0m \u001b[0ma\u001b[0m\u001b[0;34m,\u001b[0m \u001b[0mb\u001b[0m\u001b[0;34m)\u001b[0m\u001b[0;34m)\u001b[0m\u001b[0;34m\u001b[0m\u001b[0;34m\u001b[0m\u001b[0m\n\u001b[0;32m----> 4\u001b[0;31m \u001b[0mdot\u001b[0m\u001b[0;34m(\u001b[0m\u001b[0ma\u001b[0m\u001b[0;34m,\u001b[0m \u001b[0mb\u001b[0m\u001b[0;34m)\u001b[0m\u001b[0;34m\u001b[0m\u001b[0;34m\u001b[0m\u001b[0m\n\u001b[0m\u001b[1;32m      5\u001b[0m \u001b[0mprint\u001b[0m\u001b[0;34m(\u001b[0m\u001b[0;34m'dot matrix product (a, b): '\u001b[0m\u001b[0;34m,\u001b[0m \u001b[0mdot\u001b[0m\u001b[0;34m(\u001b[0m\u001b[0ma\u001b[0m\u001b[0;34m,\u001b[0m \u001b[0mb\u001b[0m\u001b[0;34m)\u001b[0m\u001b[0;34m)\u001b[0m\u001b[0;34m\u001b[0m\u001b[0;34m\u001b[0m\u001b[0m\n",
      "\u001b[0;32m<ipython-input-189-3c26362096e4>\u001b[0m in \u001b[0;36m<lambda>\u001b[0;34m(a, b)\u001b[0m\n\u001b[1;32m      1\u001b[0m \u001b[0;31m# Calculate dot matrix product without numpy\u001b[0m\u001b[0;34m\u001b[0m\u001b[0;34m\u001b[0m\u001b[0;34m\u001b[0m\u001b[0m\n\u001b[1;32m      2\u001b[0m \u001b[0;31m# source: https://is.gd/Sngxbs\u001b[0m\u001b[0;34m\u001b[0m\u001b[0;34m\u001b[0m\u001b[0;34m\u001b[0m\u001b[0m\n\u001b[0;32m----> 3\u001b[0;31m \u001b[0mdot\u001b[0m \u001b[0;34m=\u001b[0m \u001b[0;32mlambda\u001b[0m \u001b[0ma\u001b[0m\u001b[0;34m,\u001b[0m \u001b[0mb\u001b[0m\u001b[0;34m:\u001b[0m \u001b[0msum\u001b[0m\u001b[0;34m(\u001b[0m\u001b[0mmap\u001b[0m\u001b[0;34m(\u001b[0m\u001b[0;32mlambda\u001b[0m \u001b[0mA\u001b[0m\u001b[0;34m,\u001b[0m \u001b[0mB\u001b[0m\u001b[0;34m:\u001b[0m \u001b[0mA\u001b[0m \u001b[0;34m*\u001b[0m \u001b[0mB\u001b[0m\u001b[0;34m,\u001b[0m \u001b[0ma\u001b[0m\u001b[0;34m,\u001b[0m \u001b[0mb\u001b[0m\u001b[0;34m)\u001b[0m\u001b[0;34m)\u001b[0m\u001b[0;34m\u001b[0m\u001b[0;34m\u001b[0m\u001b[0m\n\u001b[0m\u001b[1;32m      4\u001b[0m \u001b[0mdot\u001b[0m\u001b[0;34m(\u001b[0m\u001b[0ma\u001b[0m\u001b[0;34m,\u001b[0m \u001b[0mb\u001b[0m\u001b[0;34m)\u001b[0m\u001b[0;34m\u001b[0m\u001b[0;34m\u001b[0m\u001b[0m\n\u001b[1;32m      5\u001b[0m \u001b[0mprint\u001b[0m\u001b[0;34m(\u001b[0m\u001b[0;34m'dot matrix product (a, b): '\u001b[0m\u001b[0;34m,\u001b[0m \u001b[0mdot\u001b[0m\u001b[0;34m(\u001b[0m\u001b[0ma\u001b[0m\u001b[0;34m,\u001b[0m \u001b[0mb\u001b[0m\u001b[0;34m)\u001b[0m\u001b[0;34m)\u001b[0m\u001b[0;34m\u001b[0m\u001b[0;34m\u001b[0m\u001b[0m\n",
      "\u001b[0;32m<ipython-input-189-3c26362096e4>\u001b[0m in \u001b[0;36m<lambda>\u001b[0;34m(A, B)\u001b[0m\n\u001b[1;32m      1\u001b[0m \u001b[0;31m# Calculate dot matrix product without numpy\u001b[0m\u001b[0;34m\u001b[0m\u001b[0;34m\u001b[0m\u001b[0;34m\u001b[0m\u001b[0m\n\u001b[1;32m      2\u001b[0m \u001b[0;31m# source: https://is.gd/Sngxbs\u001b[0m\u001b[0;34m\u001b[0m\u001b[0;34m\u001b[0m\u001b[0;34m\u001b[0m\u001b[0m\n\u001b[0;32m----> 3\u001b[0;31m \u001b[0mdot\u001b[0m \u001b[0;34m=\u001b[0m \u001b[0;32mlambda\u001b[0m \u001b[0ma\u001b[0m\u001b[0;34m,\u001b[0m \u001b[0mb\u001b[0m\u001b[0;34m:\u001b[0m \u001b[0msum\u001b[0m\u001b[0;34m(\u001b[0m\u001b[0mmap\u001b[0m\u001b[0;34m(\u001b[0m\u001b[0;32mlambda\u001b[0m \u001b[0mA\u001b[0m\u001b[0;34m,\u001b[0m \u001b[0mB\u001b[0m\u001b[0;34m:\u001b[0m \u001b[0mA\u001b[0m \u001b[0;34m*\u001b[0m \u001b[0mB\u001b[0m\u001b[0;34m,\u001b[0m \u001b[0ma\u001b[0m\u001b[0;34m,\u001b[0m \u001b[0mb\u001b[0m\u001b[0;34m)\u001b[0m\u001b[0;34m)\u001b[0m\u001b[0;34m\u001b[0m\u001b[0;34m\u001b[0m\u001b[0m\n\u001b[0m\u001b[1;32m      4\u001b[0m \u001b[0mdot\u001b[0m\u001b[0;34m(\u001b[0m\u001b[0ma\u001b[0m\u001b[0;34m,\u001b[0m \u001b[0mb\u001b[0m\u001b[0;34m)\u001b[0m\u001b[0;34m\u001b[0m\u001b[0;34m\u001b[0m\u001b[0m\n\u001b[1;32m      5\u001b[0m \u001b[0mprint\u001b[0m\u001b[0;34m(\u001b[0m\u001b[0;34m'dot matrix product (a, b): '\u001b[0m\u001b[0;34m,\u001b[0m \u001b[0mdot\u001b[0m\u001b[0;34m(\u001b[0m\u001b[0ma\u001b[0m\u001b[0;34m,\u001b[0m \u001b[0mb\u001b[0m\u001b[0;34m)\u001b[0m\u001b[0;34m)\u001b[0m\u001b[0;34m\u001b[0m\u001b[0;34m\u001b[0m\u001b[0m\n",
      "\u001b[0;31mTypeError\u001b[0m: can't multiply sequence by non-int of type 'list'"
     ]
    }
   ],
   "source": [
    "# Calculate dot matrix product without numpy\n",
    "# source: https://is.gd/Sngxbs\n",
    "dot = lambda a, b: sum(map(lambda A, B: A * B, a, b))\n",
    "dot(a, b)\n",
    "print('dot matrix product (a, b): ', dot(a, b))\n"
   ]
  },
  {
   "cell_type": "markdown",
   "metadata": {},
   "source": [
    "#### <a name=\"oop-bitwise\">Bitwise</a>"
   ]
  },
  {
   "cell_type": "code",
   "execution_count": null,
   "metadata": {},
   "outputs": [],
   "source": []
  },
  {
   "cell_type": "code",
   "execution_count": null,
   "metadata": {},
   "outputs": [],
   "source": []
  },
  {
   "cell_type": "markdown",
   "metadata": {},
   "source": [
    "#### <a name=\"oop-assign\">Assignment</a>"
   ]
  },
  {
   "cell_type": "code",
   "execution_count": null,
   "metadata": {},
   "outputs": [],
   "source": []
  },
  {
   "cell_type": "markdown",
   "metadata": {},
   "source": [
    "#### <a name=\"oop-compare\">Comparison</a>"
   ]
  },
  {
   "cell_type": "code",
   "execution_count": null,
   "metadata": {},
   "outputs": [],
   "source": []
  },
  {
   "cell_type": "code",
   "execution_count": null,
   "metadata": {},
   "outputs": [],
   "source": []
  },
  {
   "cell_type": "markdown",
   "metadata": {},
   "source": [
    "#### <a name=\"oop-boolean\">Booleans</a>"
   ]
  },
  {
   "cell_type": "code",
   "execution_count": null,
   "metadata": {},
   "outputs": [],
   "source": []
  },
  {
   "cell_type": "code",
   "execution_count": null,
   "metadata": {},
   "outputs": [],
   "source": []
  },
  {
   "cell_type": "markdown",
   "metadata": {},
   "source": [
    "#### <a name=\"oop-identity\">Identity</a>"
   ]
  },
  {
   "cell_type": "code",
   "execution_count": null,
   "metadata": {},
   "outputs": [],
   "source": []
  },
  {
   "cell_type": "code",
   "execution_count": null,
   "metadata": {},
   "outputs": [],
   "source": []
  },
  {
   "cell_type": "markdown",
   "metadata": {},
   "source": [
    "#### <a name=\"oop-member\">Memberships</a>"
   ]
  },
  {
   "cell_type": "code",
   "execution_count": null,
   "metadata": {},
   "outputs": [],
   "source": []
  },
  {
   "cell_type": "code",
   "execution_count": null,
   "metadata": {},
   "outputs": [],
   "source": []
  },
  {
   "cell_type": "code",
   "execution_count": null,
   "metadata": {},
   "outputs": [],
   "source": []
  },
  {
   "cell_type": "markdown",
   "metadata": {},
   "source": [
    "Source: [jackevdp](https://is.gd/jCVyPV)\n",
    "\n",
    "---"
   ]
  },
  {
   "cell_type": "markdown",
   "metadata": {},
   "source": [
    "## <a name=\"header\">Header</a>"
   ]
  },
  {
   "cell_type": "code",
   "execution_count": null,
   "metadata": {},
   "outputs": [],
   "source": [
    "    "
   ]
  },
  {
   "cell_type": "code",
   "execution_count": null,
   "metadata": {},
   "outputs": [],
   "source": []
  },
  {
   "cell_type": "code",
   "execution_count": null,
   "metadata": {},
   "outputs": [],
   "source": []
  },
  {
   "cell_type": "code",
   "execution_count": null,
   "metadata": {},
   "outputs": [],
   "source": []
  },
  {
   "cell_type": "code",
   "execution_count": null,
   "metadata": {},
   "outputs": [],
   "source": []
  },
  {
   "cell_type": "code",
   "execution_count": null,
   "metadata": {},
   "outputs": [],
   "source": []
  },
  {
   "cell_type": "code",
   "execution_count": null,
   "metadata": {},
   "outputs": [],
   "source": []
  },
  {
   "cell_type": "code",
   "execution_count": null,
   "metadata": {},
   "outputs": [],
   "source": []
  },
  {
   "cell_type": "code",
   "execution_count": null,
   "metadata": {},
   "outputs": [],
   "source": []
  },
  {
   "cell_type": "code",
   "execution_count": null,
   "metadata": {},
   "outputs": [],
   "source": []
  },
  {
   "cell_type": "code",
   "execution_count": null,
   "metadata": {},
   "outputs": [],
   "source": []
  },
  {
   "cell_type": "markdown",
   "metadata": {},
   "source": [
    "# 1. Import Data & Modules"
   ]
  },
  {
   "cell_type": "code",
   "execution_count": null,
   "metadata": {},
   "outputs": [],
   "source": []
  },
  {
   "cell_type": "code",
   "execution_count": null,
   "metadata": {},
   "outputs": [],
   "source": [
    "# 'generic import' math module\n",
    "import math\n",
    "math.sqrt(25)"
   ]
  },
  {
   "cell_type": "code",
   "execution_count": null,
   "metadata": {},
   "outputs": [],
   "source": []
  },
  {
   "cell_type": "code",
   "execution_count": null,
   "metadata": {},
   "outputs": [],
   "source": []
  },
  {
   "cell_type": "code",
   "execution_count": null,
   "metadata": {},
   "outputs": [],
   "source": [
    "# import a function from math library\n",
    "from math import sqrt\n",
    "sqrt(25)"
   ]
  },
  {
   "cell_type": "code",
   "execution_count": null,
   "metadata": {},
   "outputs": [],
   "source": [
    "# import multiple functions from math library\n",
    "from math import cos, floor\n",
    "cos(floor(25))"
   ]
  },
  {
   "cell_type": "code",
   "execution_count": null,
   "metadata": {},
   "outputs": [],
   "source": [
    "#import all functions (generally discouraged) in a module\n",
    "from csv import "
   ]
  },
  {
   "cell_type": "code",
   "execution_count": null,
   "metadata": {},
   "outputs": [],
   "source": []
  },
  {
   "cell_type": "code",
   "execution_count": null,
   "metadata": {},
   "outputs": [],
   "source": []
  },
  {
   "cell_type": "code",
   "execution_count": null,
   "metadata": {},
   "outputs": [],
   "source": [
    "# sources\n",
    "# jakevdp > https://is.gd/AOvPiG\n",
    "# 😒 justmarkham > https://is.gd/gIzUwD"
   ]
  }
 ],
 "metadata": {
  "kernelspec": {
   "display_name": "Python 3",
   "language": "python",
   "name": "python3"
  },
  "language_info": {
   "codemirror_mode": {
    "name": "ipython",
    "version": 3
   },
   "file_extension": ".py",
   "mimetype": "text/x-python",
   "name": "python",
   "nbconvert_exporter": "python",
   "pygments_lexer": "ipython3",
   "version": "3.7.3"
  }
 },
 "nbformat": 4,
 "nbformat_minor": 2
}
